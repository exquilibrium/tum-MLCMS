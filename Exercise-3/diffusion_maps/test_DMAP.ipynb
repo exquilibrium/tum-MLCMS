{
 "cells": [
  {
   "cell_type": "code",
   "execution_count": 6,
   "id": "initial_id",
   "metadata": {
    "collapsed": true,
    "ExecuteTime": {
     "end_time": "2023-11-27T06:33:45.621262600Z",
     "start_time": "2023-11-27T06:33:45.570398700Z"
    }
   },
   "outputs": [
    {
     "name": "stdout",
     "output_type": "stream",
     "text": [
      "The autoreload extension is already loaded. To reload it, use:\n",
      "  %reload_ext autoreload\n"
     ]
    }
   ],
   "source": [
    "%load_ext autoreload\n",
    "%autoreload 2"
   ]
  },
  {
   "cell_type": "code",
   "execution_count": 7,
   "outputs": [],
   "source": [
    "import numpy as np\n",
    "import scipy as sp\n",
    "import model"
   ],
   "metadata": {
    "collapsed": false,
    "ExecuteTime": {
     "end_time": "2023-11-27T06:33:45.669134600Z",
     "start_time": "2023-11-27T06:33:45.623287500Z"
    }
   },
   "id": "debc13874f379faa"
  },
  {
   "cell_type": "code",
   "execution_count": 8,
   "outputs": [],
   "source": [
    "\"\"\"\n",
    "Just for quick debugging of diffusion map implementation\n",
    "\"\"\"\n",
    "\n",
    "def dMap_inefficient(data):\n",
    "       # Form distance matrix\n",
    "       d_mat = sp.spatial.distance_matrix(data, data)\n",
    "       \n",
    "       # Set diameter of dataset to 5%\n",
    "       epsilon = 0.05 * np.max(d_mat)\n",
    "       \n",
    "       # Form un-normalized kernel matrix\n",
    "       w_mat = np.exp(-np.square(d_mat) / epsilon)\n",
    "       \n",
    "       # Form normalized kernel matrix\n",
    "       p_mat = np.diag(w_mat.sum(axis=1, dtype='float'))\n",
    "       p_mat_inv = np.linalg.inv(p_mat)\n",
    "       k_mat = np.matmul(p_mat_inv, np.matmul(w_mat, p_mat_inv))\n",
    "       \n",
    "       # Form normalized symmetric matrix\n",
    "       q_mat = np.diag(k_mat.sum(axis=1, dtype='float'))\n",
    "       q_mat_inv_sqr = np.sqrt(np.linalg.inv(q_mat))\n",
    "       t_mat = np.matmul(q_mat_inv_sqr, np.matmul(k_mat, q_mat_inv_sqr))\n",
    "       \n",
    "def dMap_sparse(data, max_dist=1.0):\n",
    "       # Form distance matrix\n",
    "       kd_tree = sp.spatial.KDTree(data)\n",
    "       d_mat = kd_tree.sparse_distance_matrix(kd_tree, max_distance=max_dist)\n",
    "       d_mat = d_mat.toarray()\n",
    "       \n",
    "       # Set diameter of dataset to 5%\n",
    "       epsilon = 0.05 * np.max(d_mat)\n",
    "       \n",
    "       # Form un-normalized kernel matrix\n",
    "       w_mat = np.exp(-np.square(d_mat) / epsilon)\n",
    "       \n",
    "       # Form normalized kernel matrix\n",
    "       p_mat = sp.sparse.diags(w_mat.sum(axis=1, dtype='float'), format=\"csc\")\n",
    "       p_mat_inv = sp.sparse.linalg.inv(p_mat)\n",
    "       k_mat = p_mat_inv.dot(sp.sparse.csc_matrix.dot(w_mat, p_mat_inv))\n",
    "       \n",
    "       # Form normalized symmetric matrix\n",
    "       q_mat = sp.sparse.diags(k_mat.sum(axis=1, dtype='float'), format=\"csc\")\n",
    "       q_mat_inv_sqr = np.sqrt(sp.sparse.linalg.inv(q_mat))\n",
    "       t_mat = q_mat_inv_sqr.dot(sp.sparse.csc_matrix.dot(k_mat, q_mat_inv_sqr))\n",
    "       "
   ],
   "metadata": {
    "collapsed": false,
    "ExecuteTime": {
     "end_time": "2023-11-27T06:33:45.730035800Z",
     "start_time": "2023-11-27T06:33:45.674150600Z"
    }
   },
   "id": "eb11e70a2657a495"
  },
  {
   "cell_type": "code",
   "execution_count": 9,
   "outputs": [
    {
     "name": "stdout",
     "output_type": "stream",
     "text": [
      "[[-0.53518966  0.62313298]\n",
      " [-0.2749342  -0.77662707]\n",
      " [ 0.80318335  0.14933478]]\n",
      "[0.94559063 0.77024381]\n",
      "[[-0.50607033  0.47996432]\n",
      " [-0.2599752  -0.59819219]\n",
      " [ 0.75948265  0.11502419]]\n"
     ]
    }
   ],
   "source": [
    "# Debug model\n",
    "data = [[0.1, 0.1, 0.2],\n",
    "       [0.3, 0.4, 0.5],\n",
    "       [0.6, 0.7, 0.8]]\n",
    "\n",
    "diffMap = model.DiffusionMap()\n",
    "diffMap.fit(data)\n",
    "\n",
    "print(diffMap.phis)\n",
    "print(diffMap.lambdas)\n",
    "print(diffMap.dMap)"
   ],
   "metadata": {
    "collapsed": false,
    "ExecuteTime": {
     "end_time": "2023-11-27T06:33:45.792877400Z",
     "start_time": "2023-11-27T06:33:45.732030200Z"
    }
   },
   "id": "75d853771359e723"
  }
 ],
 "metadata": {
  "kernelspec": {
   "display_name": "Python 3",
   "language": "python",
   "name": "python3"
  },
  "language_info": {
   "codemirror_mode": {
    "name": "ipython",
    "version": 2
   },
   "file_extension": ".py",
   "mimetype": "text/x-python",
   "name": "python",
   "nbconvert_exporter": "python",
   "pygments_lexer": "ipython2",
   "version": "2.7.6"
  }
 },
 "nbformat": 4,
 "nbformat_minor": 5
}
