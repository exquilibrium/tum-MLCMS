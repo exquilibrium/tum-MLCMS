{
 "cells": [
  {
   "cell_type": "code",
   "execution_count": null,
   "metadata": {},
   "outputs": [],
   "source": [
    "\n",
    "import os\n",
    "import torch\n",
    "import data_setup, engine, model, model_utils, visualization\n",
    "from torchvision import transforms, datasets\n",
    "#install umap doing: pip install umap-learn"
   ]
  },
  {
   "cell_type": "code",
   "execution_count": null,
   "metadata": {},
   "outputs": [],
   "source": [
    "torch.manual_seed(42)"
   ]
  },
  {
   "cell_type": "markdown",
   "metadata": {},
   "source": [
    "Hyperparameters"
   ]
  },
  {
   "cell_type": "code",
   "execution_count": null,
   "metadata": {},
   "outputs": [],
   "source": [
    "# Setup hyperparameters\n",
    "NUM_EPOCHS = 10\n",
    "INPUT_SIZE = 28*28\n",
    "NUM_HIDDEN_LAYERS = 2\n",
    "BATCH_SIZE = 128\n",
    "HIDDEN_UNITS = 128\n",
    "LATENT_DIMS = 2\n",
    "LEARNING_RATE = 0.001\n",
    "KL_BETA = 1"
   ]
  },
  {
   "cell_type": "code",
   "execution_count": null,
   "metadata": {},
   "outputs": [],
   "source": [
    "# Define the transformations to be applied to the data, normalize between 0 and 1\n",
    "transform = transforms.Compose([\n",
    "    transforms.ToTensor(),\n",
    "    transforms.Normalize((0,), (1,))\n",
    "])"
   ]
  },
  {
   "cell_type": "markdown",
   "metadata": {},
   "source": [
    "Define the paths"
   ]
  },
  {
   "cell_type": "code",
   "execution_count": null,
   "metadata": {},
   "outputs": [],
   "source": [
    "# Define the paths for training and testing data\n",
    "train_path = 'data/mnist/train'\n",
    "test_path = 'data/mnist/test'\n"
   ]
  },
  {
   "cell_type": "code",
   "execution_count": null,
   "metadata": {},
   "outputs": [],
   "source": [
    "model_path = \"models/\"\n",
    "image_path = \"images/\""
   ]
  },
  {
   "cell_type": "code",
   "execution_count": null,
   "metadata": {},
   "outputs": [],
   "source": [
    "# Create directories if they don't exist\n",
    "os.makedirs(train_path, exist_ok=True)\n",
    "os.makedirs(test_path, exist_ok=True)\n"
   ]
  },
  {
   "cell_type": "code",
   "execution_count": null,
   "metadata": {},
   "outputs": [],
   "source": [
    "# Download and load the MNIST training dataset\n",
    "train_dataset = datasets.MNIST(root=train_path, train=True, download=True, transform=transform)\n",
    "test_dataset = datasets.MNIST(root=test_path, train=False, download=True, transform=transform)\n",
    "print(f\"Number of training examples: {len(train_dataset)}\")\n",
    "print(f\"Number of test examples: {len(test_dataset)}\")\n",
    "print(f\"Dimensions of first image: {train_dataset[0][0].shape}\")\n",
    "print(f\"First image: {train_dataset[0][0]}\")"
   ]
  },
  {
   "cell_type": "code",
   "execution_count": null,
   "metadata": {},
   "outputs": [],
   "source": [
    "# Setup target device\n",
    "device = \"cuda\" if torch.cuda.is_available() else \"cpu\"\n",
    "print(f\"Using {device} device\")"
   ]
  },
  {
   "cell_type": "code",
   "execution_count": null,
   "metadata": {},
   "outputs": [],
   "source": [
    "# Create DataLoaders with help from data_setup.py\n",
    "train_dataloader, test_dataloader, class_names = data_setup.create_dataloaders(\n",
    "    train_data=train_dataset,\n",
    "    test_data=test_dataset,\n",
    "    batch_size=BATCH_SIZE\n",
    ")"
   ]
  },
  {
   "cell_type": "markdown",
   "metadata": {},
   "source": [
    "Create model"
   ]
  },
  {
   "cell_type": "code",
   "execution_count": null,
   "metadata": {},
   "outputs": [],
   "source": [
    "# Create model with help from model.py\n",
    "vae = model.VAE(input_size=INPUT_SIZE,\n",
    "                  num_hidden_layers=NUM_HIDDEN_LAYERS,\n",
    "                  hidden_units=HIDDEN_UNITS,\n",
    "                  latent_dims=LATENT_DIMS).to(device)"
   ]
  },
  {
   "cell_type": "code",
   "execution_count": null,
   "metadata": {},
   "outputs": [],
   "source": [
    "# Set Optimizer\n",
    "optimizer = torch.optim.Adam(vae.parameters(),\n",
    "                             lr=LEARNING_RATE)"
   ]
  },
  {
   "cell_type": "markdown",
   "metadata": {},
   "source": [
    "Train model"
   ]
  },
  {
   "cell_type": "code",
   "execution_count": null,
   "metadata": {},
   "outputs": [],
   "source": [
    "# Start training with help from engine.py\n",
    "results = engine.train(model=vae,\n",
    "             train_dataloader=train_dataloader,\n",
    "             test_dataloader=test_dataloader,\n",
    "             optimizer=optimizer,\n",
    "             beta=KL_BETA,\n",
    "             epochs=NUM_EPOCHS,\n",
    "             save_path=model_path,\n",
    "             device=device)"
   ]
  },
  {
   "cell_type": "markdown",
   "metadata": {},
   "source": [
    "Save model"
   ]
  },
  {
   "cell_type": "code",
   "execution_count": null,
   "metadata": {},
   "outputs": [],
   "source": [
    "# Save the model with help from utils.py\n",
    "model_utils.save_model(model=vae,\n",
    "                 target_dir= model_path,\n",
    "                 model_name=\"vae.pth\")"
   ]
  },
  {
   "cell_type": "markdown",
   "metadata": {},
   "source": [
    "Load Model"
   ]
  },
  {
   "cell_type": "code",
   "execution_count": null,
   "metadata": {},
   "outputs": [],
   "source": [
    "# Instantiate a new instance of our model (this will be instantiated with random weights)\n",
    "loaded_model = model.VAE(input_size=INPUT_SIZE, num_hidden_layers=NUM_HIDDEN_LAYERS, hidden_units=HIDDEN_UNITS, latent_dims=LATENT_DIMS)\n",
    "\n",
    "# Load the state_dict of our saved model (this will update the new instance of our model with trained weights)\n",
    "loaded_model.load_state_dict(torch.load(f=\"{model_path}vae.pth\", map_location=torch.device(device)))"
   ]
  },
  {
   "cell_type": "code",
   "execution_count": null,
   "metadata": {},
   "outputs": [],
   "source": [
    "# Plot test images and their reconstructions with help from visualization.py\n",
    "visualization.plot_reconstructions(model=vae,\n",
    "                                    test_dataloader=test_dataloader,\n",
    "                                    device=device,\n",
    "                                    path = image_path,\n",
    "                                    n=15)"
   ]
  },
  {
   "cell_type": "code",
   "execution_count": null,
   "metadata": {},
   "outputs": [],
   "source": [
    "# Plot generated images with help from visualization.py\n",
    "visualization.plot_generated_samples(model=vae,\n",
    "                              device=device,\n",
    "                              path = image_path,\n",
    "                              n=15)"
   ]
  },
  {
   "cell_type": "code",
   "execution_count": null,
   "metadata": {},
   "outputs": [],
   "source": [
    "#Plot training and testing loss curves with help from visualization.py\n",
    "visualization.plot_loss(train_loss=results[\"train_loss\"],\n",
    "                        test_loss=results[\"test_loss\"],\n",
    "                        path= image_path)"
   ]
  },
  {
   "cell_type": "code",
   "execution_count": null,
   "metadata": {},
   "outputs": [],
   "source": [
    "#Plot latent space with help from visualization.py\n",
    "visualization.plot_latent(model=loaded_model,\n",
    "                                test_dataloader=test_dataloader,\n",
    "                                device=device,\n",
    "                                path = image_path)"
   ]
  },
  {
   "cell_type": "code",
   "execution_count": null,
   "metadata": {},
   "outputs": [],
   "source": [
    "visualization.plot_likelihood_and_kl_loss(train_likelihood=results[\"train_reconstruction\"], train_kl_loss=results[\"train_kl_loss\"], test_kl_loss=results[\"test_kl_loss\"], test_likelihood=results[\"test_reconstruction\"], path= image_path)"
   ]
  }
 ],
 "metadata": {
  "kernelspec": {
   "display_name": "ex1",
   "language": "python",
   "name": "python3"
  },
  "language_info": {
   "codemirror_mode": {
    "name": "ipython",
    "version": 3
   },
   "file_extension": ".py",
   "mimetype": "text/x-python",
   "name": "python",
   "nbconvert_exporter": "python",
   "pygments_lexer": "ipython3",
   "version": "3.11.4"
  }
 },
 "nbformat": 4,
 "nbformat_minor": 2
}
