{
 "cells": [
  {
   "cell_type": "markdown",
   "id": "380427a5b66ecae4",
   "metadata": {
    "collapsed": false
   },
   "source": [
    "#Task 5 Scenario 1\n",
    "Runs the scenario 1 multiple times and prints the speeds measured."
   ]
  },
  {
   "cell_type": "code",
   "execution_count": 2,
   "id": "initial_id",
   "metadata": {
    "ExecuteTime": {
     "start_time": "2023-11-02T14:09:41.886222400Z"
    },
    "collapsed": false
   },
   "outputs": [
    {
     "name": "stdout",
     "output_type": "stream",
     "text": [
      "[46, 53, 55, 55, 55, 52, 57, 48, 55, 46]\n"
     ]
    }
   ],
   "source": [
    "\n",
    "from jupiter_notebook_helpers import *\n",
    "sn = \"scenarios/scenario_RIMEA-1.json\"\n",
    "vs = []\n",
    "for x in range(10):\n",
    "    vs.append(get_first_pedestrian_speed(sn))\n",
    "print(vs)"
   ]
  }
 ],
 "metadata": {
  "kernelspec": {
   "display_name": "Python 3",
   "language": "python",
   "name": "python3"
  },
  "language_info": {
   "codemirror_mode": {
    "name": "ipython",
    "version": 3
   },
   "file_extension": ".py",
   "mimetype": "text/x-python",
   "name": "python",
   "nbconvert_exporter": "python",
   "pygments_lexer": "ipython3",
   "version": "3.11.4"
  }
 },
 "nbformat": 4,
 "nbformat_minor": 5
}
