{
 "cells": [
  {
   "cell_type": "code",
   "execution_count": 1,
   "id": "8ad508ac",
   "metadata": {},
   "outputs": [
    {
     "name": "stdout",
     "output_type": "stream",
     "text": [
      "Finished adding pedestrian. ID of the new pedestrian is 7\n"
     ]
    }
   ],
   "source": [
    "# Run the Python script to add a pedestrian to the specified scenario file\n",
    "\n",
    "!python add_pedestrian.py -s \"..\\\\scenarios\\\\scenarios\\\\RiMEA scenario 6.scenario\" --x 22 --y 3 --targetID 3 --speed 0.5"
   ]
  },
  {
   "cell_type": "code",
   "execution_count": 2,
   "id": "01d25301",
   "metadata": {
    "scrolled": true
   },
   "outputs": [
    {
     "name": "stdout",
     "output_type": "stream",
     "text": [
      "WARNING: sun.reflect.Reflection.getCallerClass is not supported. This will impact performance.\n",
      "15:32:42,234   INFO ScenarioRunSubCommand:55 - Use output directory: C:\\Users\\Jianfeng Yue\\OneDrive\\Desktop\\Exercises-MLCMS-Group-C\\Exercise-2\\add_pedastrian\\..\\scenarios\\output\n",
      "15:32:42,340   INFO JsonMigrationAssistant:83 - >> analyzing JSON tree of scenario <RiMEA scenario 6_modified>\n",
      "15:32:42,341   INFO JsonMigrationAssistant:103 - Nothing to do current version and target version match\n",
      "15:32:42,683   INFO VadereConfig:66 - Use config file from path C:\\Users\\Jianfeng Yue\\.config\\vadere.conf\n",
      "15:32:42,807   INFO ScenarioCache:85 - Cache search location: C:\\Users\\Jianfeng Yue\\OneDrive\\Desktop\\Exercises-MLCMS-Group-C\\Exercise-2\\add_pedastrian\\..\\scenarios\\scenarios\\__cache__\n",
      "15:32:42,812   INFO ScenarioRun:147 - Initializing scenario: RiMEA scenario 6_modified...\n",
      "15:32:42,815   INFO ScenarioRun:128 - scenario context initialized.\n",
      "15:32:42,817   INFO ScenarioRun:229 - no mesh RiMEA scenario 6_modified.poly was found.\n",
      "15:32:42,817   INFO ScenarioRun:229 - no mesh RiMEA scenario 6_modified_background.poly was found.\n",
      "15:32:42,982   INFO PotentialFieldDistancesBruteForce:49 - solve floor field (PotentialFieldDistancesBruteForce)\n",
      "15:32:42,990   INFO PotentialFieldDistancesBruteForce:106 - Progress:  0% -> 0/90601 [points]\n",
      "15:32:43,058   INFO PotentialFieldDistancesBruteForce:106 - Progress: 10% -> 9061/90601 [points]\n",
      "15:32:43,087   INFO PotentialFieldDistancesBruteForce:106 - Progress: 20% -> 18121/90601 [points]\n",
      "15:32:43,118   INFO PotentialFieldDistancesBruteForce:106 - Progress: 30% -> 27181/90601 [points]\n",
      "15:32:43,142   INFO PotentialFieldDistancesBruteForce:106 - Progress: 40% -> 36241/90601 [points]\n",
      "15:32:43,163   INFO PotentialFieldDistancesBruteForce:106 - Progress: 50% -> 45301/90601 [points]\n",
      "15:32:43,180   INFO PotentialFieldDistancesBruteForce:106 - Progress: 60% -> 54361/90601 [points]\n",
      "15:32:43,195   INFO PotentialFieldDistancesBruteForce:106 - Progress: 70% -> 63421/90601 [points]\n",
      "15:32:43,210   INFO PotentialFieldDistancesBruteForce:106 - Progress: 80% -> 72481/90601 [points]\n",
      "15:32:43,220   INFO PotentialFieldDistancesBruteForce:106 - Progress: 90% -> 81541/90601 [points]\n",
      "15:32:43,240   INFO PotentialFieldDistancesBruteForce:96 - floor field initialization time:256[ms]\n",
      "15:32:43,242   INFO Topography:414 - Set PedestrianIdCount to start value: 8\n",
      "15:32:43,397   INFO EikonalSolverDefaultProvider:23 - floor field initialization time:134[ms]\n",
      "15:32:43,398   INFO Simulation:277 - preLoop finished.\n",
      "15:33:12,453   INFO OutputFile:109 - Absolute file name..\\scenarios\\output\\RiMEA scenario 6_modified_2023-11-12_15-32-42.811\\postvis.traj\n",
      "15:33:12,480   INFO OutputFile:109 - Absolute file name..\\scenarios\\output\\RiMEA scenario 6_modified_2023-11-12_15-32-42.811\\overlaps.csv\n",
      "15:33:12,481   INFO OutputFile:109 - Absolute file name..\\scenarios\\output\\RiMEA scenario 6_modified_2023-11-12_15-32-42.811\\overlapCount.txt\n",
      "15:33:12,482   INFO Simulation:251 - Finished writing all output files\n",
      "15:33:12,482   INFO Simulation:254 - Post-loop: before waitForTraci\n",
      "15:33:12,482   INFO Simulation:261 - Post-loop: finished.\n",
      "15:33:12,483   INFO ScenarioRun:207 - Simulation run finished.\n",
      "15:33:12,483   INFO ScenarioRun:265 - Simulation of scenario RiMEA scenario 6_modified finished.\n"
     ]
    },
    {
     "name": "stderr",
     "output_type": "stream",
     "text": [
      "Nov 12, 2023 3:32:42 PM org.apache.commons.beanutils.FluentPropertyBeanIntrospector introspect\n",
      "INFO: Error when creating PropertyDescriptor for public final void org.apache.commons.configuration2.AbstractConfiguration.setProperty(java.lang.String,java.lang.Object)! Ignoring this property.\n",
      "SLF4J: Failed to load class \"org.slf4j.impl.StaticLoggerBinder\".\n",
      "SLF4J: Defaulting to no-operation (NOP) logger implementation\n",
      "SLF4J: See http://www.slf4j.org/codes.html#StaticLoggerBinder for further details.\n"
     ]
    }
   ],
   "source": [
    "# Execute the Vadere simulation using the modified scenario file\n",
    "\n",
    "!java -jar C:\\\\Users\\\\vadere_bin\\\\vadere-console.jar scenario-run --scenario-file \"..\\\\scenarios\\\\scenarios\\\\RiMEA scenario 6_modified.scenario\" --output-dir \"..\\\\scenarios\\\\output\""
   ]
  }
 ],
 "metadata": {
  "kernelspec": {
   "display_name": "Python 3 (ipykernel)",
   "language": "python",
   "name": "python3"
  },
  "language_info": {
   "codemirror_mode": {
    "name": "ipython",
    "version": 3
   },
   "file_extension": ".py",
   "mimetype": "text/x-python",
   "name": "python",
   "nbconvert_exporter": "python",
   "pygments_lexer": "ipython3",
   "version": "3.11.5"
  }
 },
 "nbformat": 4,
 "nbformat_minor": 5
}
